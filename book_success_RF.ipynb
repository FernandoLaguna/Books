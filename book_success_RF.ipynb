{
 "cells": [
  {
   "cell_type": "markdown",
   "id": "62cddb16",
   "metadata": {},
   "source": [
    " # Predicting Book Success"
   ]
  },
  {
   "cell_type": "code",
   "execution_count": 1,
   "id": "3c45e9fe",
   "metadata": {},
   "outputs": [],
   "source": [
    "\n",
    "# Initial imports\n",
    "import pandas as pd\n",
    "from path import Path\n",
    "from sklearn.ensemble import RandomForestClassifier\n",
    "from sklearn.preprocessing import StandardScaler\n",
    "from sklearn.model_selection import train_test_split\n",
    "from sklearn.metrics import confusion_matrix, accuracy_score, classification_report"
   ]
  },
  {
   "cell_type": "code",
   "execution_count": 2,
   "id": "40bea4a0",
   "metadata": {},
   "outputs": [
    {
     "data": {
      "text/html": [
       "<div>\n",
       "<style scoped>\n",
       "    .dataframe tbody tr th:only-of-type {\n",
       "        vertical-align: middle;\n",
       "    }\n",
       "\n",
       "    .dataframe tbody tr th {\n",
       "        vertical-align: top;\n",
       "    }\n",
       "\n",
       "    .dataframe thead th {\n",
       "        text-align: right;\n",
       "    }\n",
       "</style>\n",
       "<table border=\"1\" class=\"dataframe\">\n",
       "  <thead>\n",
       "    <tr style=\"text-align: right;\">\n",
       "      <th></th>\n",
       "      <th>ISBN</th>\n",
       "      <th>Rating</th>\n",
       "      <th>Price</th>\n",
       "      <th>Pages</th>\n",
       "      <th>Rating Count</th>\n",
       "      <th>Language_Dummy</th>\n",
       "      <th>Size_Dummy</th>\n",
       "      <th>Famous_Dummy</th>\n",
       "      <th>Categories_Dummy</th>\n",
       "      <th>Serie_Dummy</th>\n",
       "      <th>Rating_Classification</th>\n",
       "    </tr>\n",
       "  </thead>\n",
       "  <tbody>\n",
       "    <tr>\n",
       "      <th>0</th>\n",
       "      <td>9780439358071</td>\n",
       "      <td>4.49</td>\n",
       "      <td>7.38</td>\n",
       "      <td>870</td>\n",
       "      <td>1996446</td>\n",
       "      <td>English</td>\n",
       "      <td>Big</td>\n",
       "      <td>Famous</td>\n",
       "      <td>Top_Category</td>\n",
       "      <td>Serie</td>\n",
       "      <td>High_Rating</td>\n",
       "    </tr>\n",
       "    <tr>\n",
       "      <th>1</th>\n",
       "      <td>9780316015844</td>\n",
       "      <td>3.59</td>\n",
       "      <td>2.10</td>\n",
       "      <td>498</td>\n",
       "      <td>4367341</td>\n",
       "      <td>English</td>\n",
       "      <td>Big</td>\n",
       "      <td>Other</td>\n",
       "      <td>Other</td>\n",
       "      <td>Serie</td>\n",
       "      <td>Low_Rating</td>\n",
       "    </tr>\n",
       "    <tr>\n",
       "      <th>2</th>\n",
       "      <td>9780345538376</td>\n",
       "      <td>4.59</td>\n",
       "      <td>21.15</td>\n",
       "      <td>1728</td>\n",
       "      <td>97731</td>\n",
       "      <td>English</td>\n",
       "      <td>Big</td>\n",
       "      <td>Famous</td>\n",
       "      <td>Top_Category</td>\n",
       "      <td>Serie</td>\n",
       "      <td>High_Rating</td>\n",
       "    </tr>\n",
       "    <tr>\n",
       "      <th>3</th>\n",
       "      <td>9780393978896</td>\n",
       "      <td>3.84</td>\n",
       "      <td>2.73</td>\n",
       "      <td>464</td>\n",
       "      <td>1041597</td>\n",
       "      <td>English</td>\n",
       "      <td>Big</td>\n",
       "      <td>Other</td>\n",
       "      <td>Top_Category</td>\n",
       "      <td>Other</td>\n",
       "      <td>Low_Rating</td>\n",
       "    </tr>\n",
       "    <tr>\n",
       "      <th>4</th>\n",
       "      <td>9780142437209</td>\n",
       "      <td>4.11</td>\n",
       "      <td>5.46</td>\n",
       "      <td>532</td>\n",
       "      <td>1328143</td>\n",
       "      <td>English</td>\n",
       "      <td>Big</td>\n",
       "      <td>Other</td>\n",
       "      <td>Top_Category</td>\n",
       "      <td>Other</td>\n",
       "      <td>Low_Rating</td>\n",
       "    </tr>\n",
       "  </tbody>\n",
       "</table>\n",
       "</div>"
      ],
      "text/plain": [
       "            ISBN  Rating  Price  Pages  Rating Count Language_Dummy  \\\n",
       "0  9780439358071    4.49   7.38    870       1996446        English   \n",
       "1  9780316015844    3.59   2.10    498       4367341        English   \n",
       "2  9780345538376    4.59  21.15   1728         97731        English   \n",
       "3  9780393978896    3.84   2.73    464       1041597        English   \n",
       "4  9780142437209    4.11   5.46    532       1328143        English   \n",
       "\n",
       "  Size_Dummy Famous_Dummy Categories_Dummy Serie_Dummy Rating_Classification  \n",
       "0        Big       Famous     Top_Category       Serie           High_Rating  \n",
       "1        Big        Other            Other       Serie            Low_Rating  \n",
       "2        Big       Famous     Top_Category       Serie           High_Rating  \n",
       "3        Big        Other     Top_Category       Other            Low_Rating  \n",
       "4        Big        Other     Top_Category       Other            Low_Rating  "
      ]
     },
     "execution_count": 2,
     "metadata": {},
     "output_type": "execute_result"
    }
   ],
   "source": [
    "#Import the dataset\n",
    "data = Path('books_clean.csv')\n",
    "df = pd.read_csv(data)\n",
    "\n",
    "# We can see from the preview of the DataFrame that multiple variables (also called features), such as the isbn13,\n",
    "#published_year, average_rating, num_pages, ratings_count, can be used to predict the outcome: whether a book will have a good \n",
    "#rating (1) or will not (0) based on the fact that an average rating below of 4.5 will not likely be successful\n",
    "\n",
    "df.loc[df['Rating'] <= 4.2, 'Rating_Classification'] = 'Low_Rating' \n",
    "df.loc[df['Rating'] > 4.2, 'Rating_Classification'] = 'High_Rating'\n",
    "\n",
    "df.reset_index(inplace=True, drop=True)\n",
    "df.head()"
   ]
  },
  {
   "cell_type": "code",
   "execution_count": 3,
   "id": "b40a038d",
   "metadata": {},
   "outputs": [
    {
     "data": {
      "text/plain": [
       "ISBN                       int64\n",
       "Rating                   float64\n",
       "Price                    float64\n",
       "Pages                      int64\n",
       "Rating Count               int64\n",
       "Language_Dummy            object\n",
       "Size_Dummy                object\n",
       "Famous_Dummy              object\n",
       "Categories_Dummy          object\n",
       "Serie_Dummy               object\n",
       "Rating_Classification     object\n",
       "dtype: object"
      ]
     },
     "execution_count": 3,
     "metadata": {},
     "output_type": "execute_result"
    }
   ],
   "source": [
    "# We will check for the variables from all columns\n",
    "df.dtypes"
   ]
  },
  {
   "cell_type": "code",
   "execution_count": 4,
   "id": "05e1be63",
   "metadata": {},
   "outputs": [
    {
     "data": {
      "text/plain": [
       "0"
      ]
     },
     "execution_count": 4,
     "metadata": {},
     "output_type": "execute_result"
    }
   ],
   "source": [
    "#Count the current NaN values from the dataframe\n",
    "df.isnull().sum().sum()"
   ]
  },
  {
   "cell_type": "code",
   "execution_count": 5,
   "id": "07b16ef1",
   "metadata": {},
   "outputs": [],
   "source": [
    "#Drop all the NaN values\n",
    "df.dropna(inplace=True)"
   ]
  },
  {
   "cell_type": "code",
   "execution_count": 6,
   "id": "33abbfec",
   "metadata": {},
   "outputs": [
    {
     "data": {
      "text/plain": [
       "0"
      ]
     },
     "execution_count": 6,
     "metadata": {},
     "output_type": "execute_result"
    }
   ],
   "source": [
    "#Recount all the NaN values to make sure they are dropped\n",
    "df.isnull().sum().sum()"
   ]
  },
  {
   "cell_type": "code",
   "execution_count": 7,
   "id": "4cb8b89b",
   "metadata": {},
   "outputs": [],
   "source": [
    "#Use method to convert String to int\n",
    "def rating(x):\n",
    "    if x == 'Low_Rating':\n",
    "        return 0\n",
    "    if x == 'High_Rating':\n",
    "        return 1\n",
    "    "
   ]
  },
  {
   "cell_type": "code",
   "execution_count": 8,
   "id": "0d58b2f0",
   "metadata": {},
   "outputs": [],
   "source": [
    "#Apply the method to the rating_classification column\n",
    "df['Rating_Classification'] = df['Rating_Classification'].apply(rating)"
   ]
  },
  {
   "cell_type": "code",
   "execution_count": 9,
   "id": "d9bbf802",
   "metadata": {},
   "outputs": [],
   "source": [
    "#Use method to convert String to int\n",
    "def binary(x):\n",
    "    if x == 'Other':\n",
    "        return 0\n",
    "    if x == 'English'or 'Big' or 'Famous' or 'Serie' or 'Top_Category':\n",
    "        return 1"
   ]
  },
  {
   "cell_type": "code",
   "execution_count": 10,
   "id": "741e2fa5",
   "metadata": {},
   "outputs": [],
   "source": [
    "#Apply the method to the rating_classification column\n",
    "df['Size_Dummy'] = df['Size_Dummy'].apply(binary)"
   ]
  },
  {
   "cell_type": "code",
   "execution_count": 11,
   "id": "0ea99c36",
   "metadata": {},
   "outputs": [],
   "source": [
    "df['Serie_Dummy'] = df['Serie_Dummy'].apply(binary)"
   ]
  },
  {
   "cell_type": "code",
   "execution_count": 12,
   "id": "4e85b5bc",
   "metadata": {},
   "outputs": [],
   "source": [
    "df['Famous_Dummy'] = df['Famous_Dummy'].apply(binary)"
   ]
  },
  {
   "cell_type": "code",
   "execution_count": 13,
   "id": "07897423",
   "metadata": {},
   "outputs": [],
   "source": [
    "df['Language_Dummy'] = df['Language_Dummy'].apply(binary)"
   ]
  },
  {
   "cell_type": "code",
   "execution_count": 14,
   "id": "d1932671",
   "metadata": {},
   "outputs": [],
   "source": [
    "df['Categories_Dummy'] = df['Categories_Dummy'].apply(binary)"
   ]
  },
  {
   "cell_type": "code",
   "execution_count": 15,
   "id": "5d950b89",
   "metadata": {},
   "outputs": [
    {
     "data": {
      "text/html": [
       "<div>\n",
       "<style scoped>\n",
       "    .dataframe tbody tr th:only-of-type {\n",
       "        vertical-align: middle;\n",
       "    }\n",
       "\n",
       "    .dataframe tbody tr th {\n",
       "        vertical-align: top;\n",
       "    }\n",
       "\n",
       "    .dataframe thead th {\n",
       "        text-align: right;\n",
       "    }\n",
       "</style>\n",
       "<table border=\"1\" class=\"dataframe\">\n",
       "  <thead>\n",
       "    <tr style=\"text-align: right;\">\n",
       "      <th></th>\n",
       "      <th>ISBN</th>\n",
       "      <th>Rating</th>\n",
       "      <th>Price</th>\n",
       "      <th>Pages</th>\n",
       "      <th>Rating Count</th>\n",
       "      <th>Language_Dummy</th>\n",
       "      <th>Size_Dummy</th>\n",
       "      <th>Famous_Dummy</th>\n",
       "      <th>Categories_Dummy</th>\n",
       "      <th>Serie_Dummy</th>\n",
       "      <th>Rating_Classification</th>\n",
       "    </tr>\n",
       "  </thead>\n",
       "  <tbody>\n",
       "    <tr>\n",
       "      <th>1921</th>\n",
       "      <td>9780842360616</td>\n",
       "      <td>3.99</td>\n",
       "      <td>5.56</td>\n",
       "      <td>356</td>\n",
       "      <td>3967</td>\n",
       "      <td>1</td>\n",
       "      <td>1</td>\n",
       "      <td>1</td>\n",
       "      <td>1</td>\n",
       "      <td>1</td>\n",
       "      <td>0</td>\n",
       "    </tr>\n",
       "    <tr>\n",
       "      <th>1922</th>\n",
       "      <td>9780425206867</td>\n",
       "      <td>3.76</td>\n",
       "      <td>3.19</td>\n",
       "      <td>216</td>\n",
       "      <td>22369</td>\n",
       "      <td>1</td>\n",
       "      <td>1</td>\n",
       "      <td>1</td>\n",
       "      <td>1</td>\n",
       "      <td>1</td>\n",
       "      <td>0</td>\n",
       "    </tr>\n",
       "    <tr>\n",
       "      <th>1923</th>\n",
       "      <td>9780142302330</td>\n",
       "      <td>4.39</td>\n",
       "      <td>15.14</td>\n",
       "      <td>1008</td>\n",
       "      <td>504</td>\n",
       "      <td>1</td>\n",
       "      <td>1</td>\n",
       "      <td>1</td>\n",
       "      <td>1</td>\n",
       "      <td>0</td>\n",
       "      <td>1</td>\n",
       "    </tr>\n",
       "    <tr>\n",
       "      <th>1924</th>\n",
       "      <td>9780140437850</td>\n",
       "      <td>3.53</td>\n",
       "      <td>5.69</td>\n",
       "      <td>289</td>\n",
       "      <td>3471</td>\n",
       "      <td>1</td>\n",
       "      <td>1</td>\n",
       "      <td>0</td>\n",
       "      <td>1</td>\n",
       "      <td>0</td>\n",
       "      <td>0</td>\n",
       "    </tr>\n",
       "    <tr>\n",
       "      <th>1925</th>\n",
       "      <td>9780812975932</td>\n",
       "      <td>3.44</td>\n",
       "      <td>3.28</td>\n",
       "      <td>142</td>\n",
       "      <td>5028</td>\n",
       "      <td>1</td>\n",
       "      <td>1</td>\n",
       "      <td>0</td>\n",
       "      <td>1</td>\n",
       "      <td>0</td>\n",
       "      <td>0</td>\n",
       "    </tr>\n",
       "    <tr>\n",
       "      <th>1926</th>\n",
       "      <td>9780441731183</td>\n",
       "      <td>3.78</td>\n",
       "      <td>3.89</td>\n",
       "      <td>341</td>\n",
       "      <td>6092</td>\n",
       "      <td>1</td>\n",
       "      <td>1</td>\n",
       "      <td>1</td>\n",
       "      <td>1</td>\n",
       "      <td>1</td>\n",
       "      <td>0</td>\n",
       "    </tr>\n",
       "    <tr>\n",
       "      <th>1927</th>\n",
       "      <td>9780811213769</td>\n",
       "      <td>4.30</td>\n",
       "      <td>3.59</td>\n",
       "      <td>99</td>\n",
       "      <td>599</td>\n",
       "      <td>1</td>\n",
       "      <td>1</td>\n",
       "      <td>0</td>\n",
       "      <td>1</td>\n",
       "      <td>0</td>\n",
       "      <td>1</td>\n",
       "    </tr>\n",
       "    <tr>\n",
       "      <th>1928</th>\n",
       "      <td>9780553562606</td>\n",
       "      <td>4.08</td>\n",
       "      <td>3.12</td>\n",
       "      <td>518</td>\n",
       "      <td>5356</td>\n",
       "      <td>1</td>\n",
       "      <td>1</td>\n",
       "      <td>0</td>\n",
       "      <td>1</td>\n",
       "      <td>1</td>\n",
       "      <td>0</td>\n",
       "    </tr>\n",
       "    <tr>\n",
       "      <th>1929</th>\n",
       "      <td>9781400044870</td>\n",
       "      <td>4.02</td>\n",
       "      <td>3.59</td>\n",
       "      <td>320</td>\n",
       "      <td>4455</td>\n",
       "      <td>1</td>\n",
       "      <td>1</td>\n",
       "      <td>0</td>\n",
       "      <td>1</td>\n",
       "      <td>0</td>\n",
       "      <td>0</td>\n",
       "    </tr>\n",
       "    <tr>\n",
       "      <th>1930</th>\n",
       "      <td>9780553273861</td>\n",
       "      <td>3.64</td>\n",
       "      <td>3.52</td>\n",
       "      <td>291</td>\n",
       "      <td>580</td>\n",
       "      <td>1</td>\n",
       "      <td>1</td>\n",
       "      <td>1</td>\n",
       "      <td>1</td>\n",
       "      <td>0</td>\n",
       "      <td>0</td>\n",
       "    </tr>\n",
       "  </tbody>\n",
       "</table>\n",
       "</div>"
      ],
      "text/plain": [
       "               ISBN  Rating  Price  Pages  Rating Count  Language_Dummy  \\\n",
       "1921  9780842360616    3.99   5.56    356          3967               1   \n",
       "1922  9780425206867    3.76   3.19    216         22369               1   \n",
       "1923  9780142302330    4.39  15.14   1008           504               1   \n",
       "1924  9780140437850    3.53   5.69    289          3471               1   \n",
       "1925  9780812975932    3.44   3.28    142          5028               1   \n",
       "1926  9780441731183    3.78   3.89    341          6092               1   \n",
       "1927  9780811213769    4.30   3.59     99           599               1   \n",
       "1928  9780553562606    4.08   3.12    518          5356               1   \n",
       "1929  9781400044870    4.02   3.59    320          4455               1   \n",
       "1930  9780553273861    3.64   3.52    291           580               1   \n",
       "\n",
       "      Size_Dummy  Famous_Dummy  Categories_Dummy  Serie_Dummy  \\\n",
       "1921           1             1                 1            1   \n",
       "1922           1             1                 1            1   \n",
       "1923           1             1                 1            0   \n",
       "1924           1             0                 1            0   \n",
       "1925           1             0                 1            0   \n",
       "1926           1             1                 1            1   \n",
       "1927           1             0                 1            0   \n",
       "1928           1             0                 1            1   \n",
       "1929           1             0                 1            0   \n",
       "1930           1             1                 1            0   \n",
       "\n",
       "      Rating_Classification  \n",
       "1921                      0  \n",
       "1922                      0  \n",
       "1923                      1  \n",
       "1924                      0  \n",
       "1925                      0  \n",
       "1926                      0  \n",
       "1927                      1  \n",
       "1928                      0  \n",
       "1929                      0  \n",
       "1930                      0  "
      ]
     },
     "execution_count": 15,
     "metadata": {},
     "output_type": "execute_result"
    }
   ],
   "source": [
    "#Create a new dataframe with the target variables\n",
    "df.tail(10)"
   ]
  },
  {
   "cell_type": "markdown",
   "id": "01b5d523",
   "metadata": {},
   "source": [
    "##  Separate the Features (X) from the Target (y)"
   ]
  },
  {
   "cell_type": "code",
   "execution_count": 16,
   "id": "3c4fd6f2",
   "metadata": {},
   "outputs": [],
   "source": [
    "#The Outcome column is defined as y, or the target.\n",
    "#X, or features, is created by dropping the Outcome column from the DataFrame.\n",
    "\n",
    "y = df[\"Rating_Classification\"]\n",
    "X = df.drop(columns=[\"Rating_Classification\",\"ISBN\",\"Rating\",\"Rating Count\"])\n"
   ]
  },
  {
   "cell_type": "markdown",
   "id": "1a4a345b",
   "metadata": {},
   "source": [
    " ## Split our data into training and testing"
   ]
  },
  {
   "cell_type": "code",
   "execution_count": 17,
   "id": "4d92082b",
   "metadata": {},
   "outputs": [
    {
     "name": "stdout",
     "output_type": "stream",
     "text": [
      "(1448, 7)\n",
      "(483, 7)\n",
      "(1448,)\n",
      "(483,)\n"
     ]
    }
   ],
   "source": [
    "\n",
    "# Splitting into Train and Test sets\n",
    "X_train, X_test, y_train, y_test = train_test_split(X, y, random_state=78)\n",
    "print(X_train.shape)\n",
    "print(X_test.shape)\n",
    "print(y_train.shape)\n",
    "print(y_test.shape)\n"
   ]
  },
  {
   "cell_type": "code",
   "execution_count": 18,
   "id": "6fe25721",
   "metadata": {},
   "outputs": [],
   "source": [
    "# Creating StandardScaler instance (to scalate data)\n",
    "scaler = StandardScaler()"
   ]
  },
  {
   "cell_type": "code",
   "execution_count": 19,
   "id": "b7db2260",
   "metadata": {},
   "outputs": [],
   "source": [
    "# Fitting Standard Scaller\n",
    "X_scaler = scaler.fit(X_train)"
   ]
  },
  {
   "cell_type": "code",
   "execution_count": 20,
   "id": "6ef37c7d",
   "metadata": {},
   "outputs": [],
   "source": [
    "# Scaling and trnsforming data \n",
    "X_train_scaled = X_scaler.transform(X_train)\n",
    "X_test_scaled = X_scaler.transform(X_test)\n"
   ]
  },
  {
   "cell_type": "markdown",
   "id": "e2f72edc",
   "metadata": {},
   "source": [
    "## Fitting the Random-forest"
   ]
  },
  {
   "cell_type": "code",
   "execution_count": 21,
   "id": "057349a2",
   "metadata": {},
   "outputs": [],
   "source": [
    "# Create a random forest classifier. The n_estimators will allow us to set the number of trees that will be created by the algorithm\n",
    "# The best practice is to use between 64 and 128 random forests\n",
    "rf_model = RandomForestClassifier(n_estimators=128, random_state=78) "
   ]
  },
  {
   "cell_type": "code",
   "execution_count": 22,
   "id": "b77e6381",
   "metadata": {},
   "outputs": [],
   "source": [
    "# Fitting the model\n",
    "rf_model = rf_model.fit(X_train_scaled, y_train)"
   ]
  },
  {
   "cell_type": "markdown",
   "id": "3eeccdfc",
   "metadata": {},
   "source": [
    "# Making Predictions Using the Tree Model"
   ]
  },
  {
   "cell_type": "code",
   "execution_count": 23,
   "id": "b3a54b20",
   "metadata": {},
   "outputs": [
    {
     "data": {
      "text/plain": [
       "array([0, 0, 0, 0, 0, 0, 0, 0, 0, 0, 0, 1, 0, 0, 0, 0, 0, 0, 0, 0, 0, 0,\n",
       "       0, 0, 0, 0, 0, 0, 0, 0, 0, 1, 0, 0, 0, 0, 0, 0, 0, 0, 0, 1, 0, 0,\n",
       "       0, 0, 0, 0, 0, 1, 0, 0, 0, 0, 0, 0, 0, 0, 0, 0, 0, 0, 0, 0, 0, 0,\n",
       "       0, 0, 0, 0, 0, 0, 0, 0, 0, 0, 0, 0, 0, 0, 0, 0, 0, 0, 0, 0, 0, 0,\n",
       "       0, 0, 1, 0, 0, 0, 0, 0, 0, 0, 0, 0, 0, 0, 0, 0, 0, 0, 1, 1, 0, 0,\n",
       "       1, 0, 0, 0, 1, 0, 0, 0, 0, 0, 1, 0, 0, 0, 0, 0, 0, 0, 0, 0, 0, 1,\n",
       "       0, 0, 0, 0, 1, 0, 0, 0, 0, 0, 0, 0, 0, 0, 0, 0, 0, 0, 0, 0, 0, 0,\n",
       "       0, 0, 0, 0, 0, 0, 0, 0, 0, 0, 0, 0, 0, 0, 1, 0, 0, 0, 0, 0, 0, 0,\n",
       "       0, 0, 0, 0, 1, 0, 0, 0, 0, 0, 1, 0, 0, 0, 0, 0, 0, 1, 0, 0, 0, 0,\n",
       "       0, 0, 0, 0, 0, 0, 0, 0, 0, 0, 0, 0, 0, 0, 0, 0, 0, 0, 0, 0, 0, 0,\n",
       "       1, 0, 0, 0, 0, 0, 0, 0, 0, 0, 0, 0, 0, 0, 0, 0, 1, 0, 0, 0, 0, 0,\n",
       "       0, 0, 0, 0, 1, 0, 0, 0, 0, 0, 0, 0, 0, 0, 1, 1, 0, 0, 0, 0, 1, 0,\n",
       "       0, 0, 1, 0, 0, 0, 0, 0, 0, 0, 0, 0, 0, 0, 0, 0, 0, 0, 1, 0, 0, 0,\n",
       "       0, 0, 1, 0, 0, 0, 0, 0, 0, 0, 0, 0, 0, 0, 0, 1, 0, 0, 0, 1, 0, 0,\n",
       "       0, 0, 0, 1, 0, 0, 0, 0, 0, 0, 0, 0, 0, 0, 0, 0, 0, 1, 0, 0, 0, 0,\n",
       "       0, 0, 0, 0, 0, 0, 0, 0, 0, 0, 0, 0, 0, 0, 0, 0, 0, 0, 0, 0, 0, 0,\n",
       "       0, 1, 0, 0, 0, 0, 0, 0, 0, 0, 0, 0, 0, 0, 1, 0, 0, 0, 0, 0, 0, 0,\n",
       "       0, 0, 1, 0, 0, 0, 0, 0, 0, 0, 1, 0, 0, 0, 0, 0, 0, 0, 0, 1, 0, 0,\n",
       "       0, 0, 0, 0, 0, 0, 0, 0, 0, 0, 0, 0, 0, 0, 0, 0, 0, 0, 0, 0, 1, 0,\n",
       "       1, 0, 1, 1, 0, 0, 0, 0, 0, 0, 0, 0, 0, 0, 0, 0, 0, 0, 0, 0, 1, 0,\n",
       "       0, 0, 0, 0, 0, 0, 1, 0, 0, 0, 0, 0, 1, 0, 0, 0, 0, 0, 0, 0, 0, 0,\n",
       "       0, 0, 0, 0, 0, 0, 0, 0, 0, 0, 0, 0, 0, 0, 0, 0, 0, 0, 0, 0, 0],\n",
       "      dtype=int64)"
      ]
     },
     "execution_count": 23,
     "metadata": {},
     "output_type": "execute_result"
    }
   ],
   "source": [
    "# Making predictions using the testing data.\n",
    "predictions = rf_model.predict(X_test_scaled)\n",
    "predictions"
   ]
  },
  {
   "cell_type": "markdown",
   "id": "b304bfc6",
   "metadata": {},
   "source": [
    "# Model evaluation"
   ]
  },
  {
   "cell_type": "code",
   "execution_count": 24,
   "id": "41bffbaa",
   "metadata": {},
   "outputs": [
    {
     "data": {
      "text/html": [
       "<div>\n",
       "<style scoped>\n",
       "    .dataframe tbody tr th:only-of-type {\n",
       "        vertical-align: middle;\n",
       "    }\n",
       "\n",
       "    .dataframe tbody tr th {\n",
       "        vertical-align: top;\n",
       "    }\n",
       "\n",
       "    .dataframe thead th {\n",
       "        text-align: right;\n",
       "    }\n",
       "</style>\n",
       "<table border=\"1\" class=\"dataframe\">\n",
       "  <thead>\n",
       "    <tr style=\"text-align: right;\">\n",
       "      <th></th>\n",
       "      <th>Predicted 0</th>\n",
       "      <th>Predicted 1</th>\n",
       "    </tr>\n",
       "  </thead>\n",
       "  <tbody>\n",
       "    <tr>\n",
       "      <th>Actual 0</th>\n",
       "      <td>361</td>\n",
       "      <td>23</td>\n",
       "    </tr>\n",
       "    <tr>\n",
       "      <th>Actual 1</th>\n",
       "      <td>81</td>\n",
       "      <td>18</td>\n",
       "    </tr>\n",
       "  </tbody>\n",
       "</table>\n",
       "</div>"
      ],
      "text/plain": [
       "          Predicted 0  Predicted 1\n",
       "Actual 0          361           23\n",
       "Actual 1           81           18"
      ]
     },
     "execution_count": 24,
     "metadata": {},
     "output_type": "execute_result"
    }
   ],
   "source": [
    "# Calculating the confusion matrix.\n",
    "cm = confusion_matrix(y_test, predictions)\n",
    "\n",
    "# Create a DataFrame from the confusion matrix.\n",
    "cm_df = pd.DataFrame(\n",
    "    cm, index=[\"Actual 0\", \"Actual 1\"], columns=[\"Predicted 0\", \"Predicted 1\"])\n",
    "\n",
    "cm_df\n",
    "\n"
   ]
  },
  {
   "cell_type": "code",
   "execution_count": 25,
   "id": "c6d04e3f",
   "metadata": {},
   "outputs": [],
   "source": [
    "# Calculating the accuracy score.\n",
    "acc_score = accuracy_score(y_test, predictions)"
   ]
  },
  {
   "cell_type": "code",
   "execution_count": 26,
   "id": "4c97ac3b",
   "metadata": {},
   "outputs": [
    {
     "name": "stdout",
     "output_type": "stream",
     "text": [
      "Confusion Matrix\n"
     ]
    },
    {
     "data": {
      "text/html": [
       "<div>\n",
       "<style scoped>\n",
       "    .dataframe tbody tr th:only-of-type {\n",
       "        vertical-align: middle;\n",
       "    }\n",
       "\n",
       "    .dataframe tbody tr th {\n",
       "        vertical-align: top;\n",
       "    }\n",
       "\n",
       "    .dataframe thead th {\n",
       "        text-align: right;\n",
       "    }\n",
       "</style>\n",
       "<table border=\"1\" class=\"dataframe\">\n",
       "  <thead>\n",
       "    <tr style=\"text-align: right;\">\n",
       "      <th></th>\n",
       "      <th>Predicted 0</th>\n",
       "      <th>Predicted 1</th>\n",
       "    </tr>\n",
       "  </thead>\n",
       "  <tbody>\n",
       "    <tr>\n",
       "      <th>Actual 0</th>\n",
       "      <td>361</td>\n",
       "      <td>23</td>\n",
       "    </tr>\n",
       "    <tr>\n",
       "      <th>Actual 1</th>\n",
       "      <td>81</td>\n",
       "      <td>18</td>\n",
       "    </tr>\n",
       "  </tbody>\n",
       "</table>\n",
       "</div>"
      ],
      "text/plain": [
       "          Predicted 0  Predicted 1\n",
       "Actual 0          361           23\n",
       "Actual 1           81           18"
      ]
     },
     "metadata": {},
     "output_type": "display_data"
    },
    {
     "name": "stdout",
     "output_type": "stream",
     "text": [
      "Accuracy Score : 0.7846790890269151\n",
      "Classification Report\n",
      "              precision    recall  f1-score   support\n",
      "\n",
      "           0       0.82      0.94      0.87       384\n",
      "           1       0.44      0.18      0.26        99\n",
      "\n",
      "    accuracy                           0.78       483\n",
      "   macro avg       0.63      0.56      0.57       483\n",
      "weighted avg       0.74      0.78      0.75       483\n",
      "\n"
     ]
    }
   ],
   "source": [
    "# Displaying results\n",
    "print(\"Confusion Matrix\")\n",
    "display(cm_df)\n",
    "print(f\"Accuracy Score : {acc_score}\")\n",
    "print(\"Classification Report\")\n",
    "print(classification_report(y_test, predictions))"
   ]
  },
  {
   "cell_type": "code",
   "execution_count": 27,
   "id": "3c55a311",
   "metadata": {},
   "outputs": [
    {
     "data": {
      "text/plain": [
       "array([0.4555133 , 0.45921355, 0.00140104, 0.01836751, 0.01995219,\n",
       "       0.02248519, 0.02306722])"
      ]
     },
     "execution_count": 27,
     "metadata": {},
     "output_type": "execute_result"
    }
   ],
   "source": [
    "# Calculate feature importance in the Random Forest model.\n",
    "importances = rf_model.feature_importances_\n",
    "importances"
   ]
  },
  {
   "cell_type": "code",
   "execution_count": 28,
   "id": "d7c57931",
   "metadata": {},
   "outputs": [
    {
     "data": {
      "text/plain": [
       "[(0.4592135519182356, 'Pages'),\n",
       " (0.45551329705725374, 'Price'),\n",
       " (0.02306722445989212, 'Serie_Dummy'),\n",
       " (0.022485193005481453, 'Categories_Dummy'),\n",
       " (0.019952189641980558, 'Famous_Dummy'),\n",
       " (0.018367508006977833, 'Size_Dummy'),\n",
       " (0.0014010359101787133, 'Language_Dummy')]"
      ]
     },
     "execution_count": 28,
     "metadata": {},
     "output_type": "execute_result"
    }
   ],
   "source": [
    "# We can sort the features by their importance.\n",
    "sorted(zip(rf_model.feature_importances_, X.columns), reverse=True)"
   ]
  },
  {
   "cell_type": "code",
   "execution_count": null,
   "id": "d6d5b2a8",
   "metadata": {},
   "outputs": [],
   "source": []
  }
 ],
 "metadata": {
  "kernelspec": {
   "display_name": "mlenv",
   "language": "python",
   "name": "mlenv"
  },
  "language_info": {
   "codemirror_mode": {
    "name": "ipython",
    "version": 3
   },
   "file_extension": ".py",
   "mimetype": "text/x-python",
   "name": "python",
   "nbconvert_exporter": "python",
   "pygments_lexer": "ipython3",
   "version": "3.7.11"
  }
 },
 "nbformat": 4,
 "nbformat_minor": 5
}
