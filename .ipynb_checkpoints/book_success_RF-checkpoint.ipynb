{
 "cells": [
  {
   "cell_type": "markdown",
   "id": "62cddb16",
   "metadata": {},
   "source": [
    " # Predicting Book Success"
   ]
  },
  {
   "cell_type": "code",
   "execution_count": 1,
   "id": "3c45e9fe",
   "metadata": {},
   "outputs": [],
   "source": [
    "#Import Dependencies\n",
    "from path import Path\n",
    "import pandas as pd"
   ]
  },
  {
   "cell_type": "code",
   "execution_count": 2,
   "id": "40bea4a0",
   "metadata": {},
   "outputs": [
    {
     "ename": "NameError",
     "evalue": "name 'Path' is not defined",
     "output_type": "error",
     "traceback": [
      "\u001b[1;31m---------------------------------------------------------------------------\u001b[0m",
      "\u001b[1;31mNameError\u001b[0m                                 Traceback (most recent call last)",
      "\u001b[1;32m~\\AppData\\Local\\Temp/ipykernel_24180/1054511259.py\u001b[0m in \u001b[0;36m<module>\u001b[1;34m\u001b[0m\n\u001b[0;32m      1\u001b[0m \u001b[1;31m#Import the dataset\u001b[0m\u001b[1;33m\u001b[0m\u001b[1;33m\u001b[0m\u001b[1;33m\u001b[0m\u001b[0m\n\u001b[1;32m----> 2\u001b[1;33m \u001b[0mdata\u001b[0m \u001b[1;33m=\u001b[0m \u001b[0mPath\u001b[0m\u001b[1;33m(\u001b[0m\u001b[1;34m'books_clean.csv'\u001b[0m\u001b[1;33m)\u001b[0m\u001b[1;33m\u001b[0m\u001b[1;33m\u001b[0m\u001b[0m\n\u001b[0m\u001b[0;32m      3\u001b[0m \u001b[0mdf\u001b[0m \u001b[1;33m=\u001b[0m \u001b[0mpd\u001b[0m\u001b[1;33m.\u001b[0m\u001b[0mread_csv\u001b[0m\u001b[1;33m(\u001b[0m\u001b[0mdata\u001b[0m\u001b[1;33m)\u001b[0m\u001b[1;33m\u001b[0m\u001b[1;33m\u001b[0m\u001b[0m\n\u001b[0;32m      4\u001b[0m \u001b[1;33m\u001b[0m\u001b[0m\n\u001b[0;32m      5\u001b[0m \u001b[1;31m# We can see from the preview of the DataFrame that multiple variables (also called features), such as the isbn13,\u001b[0m\u001b[1;33m\u001b[0m\u001b[1;33m\u001b[0m\u001b[1;33m\u001b[0m\u001b[0m\n",
      "\u001b[1;31mNameError\u001b[0m: name 'Path' is not defined"
     ]
    }
   ],
   "source": [
    "#Import the dataset\n",
    "data = Path('books_clean.csv')\n",
    "df = pd.read_csv(data)\n",
    "\n",
    "# We can see from the preview of the DataFrame that multiple variables (also called features), such as the isbn13,\n",
    "#published_year, average_rating, num_pages, ratings_count, can be used to predict the outcome: whether a book will have a good \n",
    "#rating (1) or will not (0) based on the fact that an average rating below of 4.5 will not likely be successful\n",
    "\n",
    "df.loc[df['Rating'] <= 4.5, 'Rating_Classification'] = 'Low_Rating' \n",
    "df.loc[df['Rating'] > 4.5, 'Rating_Classification'] = 'High_Rating'\n",
    "\n",
    "df.reset_index(inplace=True, drop=True)\n",
    "df.head()"
   ]
  },
  {
   "cell_type": "code",
   "execution_count": 3,
   "id": "b40a038d",
   "metadata": {},
   "outputs": [
    {
     "data": {
      "text/plain": [
       "ISBN                       int64\n",
       "Rating                   float64\n",
       "Price                    float64\n",
       "Pages                      int64\n",
       "Rating Count               int64\n",
       "Language_Dummy            object\n",
       "Size_Dummy                object\n",
       "Famous_Dummy              object\n",
       "Categories_Dummy          object\n",
       "Serie_Dummy               object\n",
       "Rating_Classification     object\n",
       "dtype: object"
      ]
     },
     "execution_count": 3,
     "metadata": {},
     "output_type": "execute_result"
    }
   ],
   "source": [
    "# We will check for the variables from all columns\n",
    "df.dtypes"
   ]
  },
  {
   "cell_type": "code",
   "execution_count": 4,
   "id": "05e1be63",
   "metadata": {},
   "outputs": [
    {
     "data": {
      "text/plain": [
       "0"
      ]
     },
     "execution_count": 4,
     "metadata": {},
     "output_type": "execute_result"
    }
   ],
   "source": [
    "#Count the current NaN values from the dataframe\n",
    "df.isnull().sum().sum()"
   ]
  },
  {
   "cell_type": "code",
   "execution_count": 5,
   "id": "07b16ef1",
   "metadata": {},
   "outputs": [],
   "source": [
    "#Drop all the NaN values\n",
    "df.dropna(inplace=True)"
   ]
  },
  {
   "cell_type": "code",
   "execution_count": 6,
   "id": "33abbfec",
   "metadata": {},
   "outputs": [
    {
     "data": {
      "text/plain": [
       "0"
      ]
     },
     "execution_count": 6,
     "metadata": {},
     "output_type": "execute_result"
    }
   ],
   "source": [
    "#Recount all the NaN values to make sure they are dropped\n",
    "df.isnull().sum().sum()"
   ]
  },
  {
   "cell_type": "code",
   "execution_count": 7,
   "id": "4cb8b89b",
   "metadata": {},
   "outputs": [],
   "source": [
    "#Use method to convert String to int\n",
    "def rating(x):\n",
    "    if x == 'Low_Rating':\n",
    "        return 0\n",
    "    if x == 'High_Rating':\n",
    "        return 1\n",
    "    "
   ]
  },
  {
   "cell_type": "code",
   "execution_count": 8,
   "id": "0d58b2f0",
   "metadata": {},
   "outputs": [],
   "source": [
    "#Apply the method to the rating_classification column\n",
    "df['Rating_Classification'] = df['Rating_Classification'].apply(rating)"
   ]
  },
  {
   "cell_type": "code",
   "execution_count": 9,
   "id": "d9bbf802",
   "metadata": {},
   "outputs": [],
   "source": [
    "#Use method to convert String to int\n",
    "def binary(x):\n",
    "    if x == 'Other':\n",
    "        return 0\n",
    "    if x == 'English'or 'Big' or 'Famous' or 'Serie' or 'Top_Category':\n",
    "        return 1"
   ]
  },
  {
   "cell_type": "code",
   "execution_count": 10,
   "id": "741e2fa5",
   "metadata": {},
   "outputs": [],
   "source": [
    "#Apply the method to the rating_classification column\n",
    "df['Size_Dummy'] = df['Size_Dummy'].apply(binary)"
   ]
  },
  {
   "cell_type": "code",
   "execution_count": 11,
   "id": "0ea99c36",
   "metadata": {},
   "outputs": [],
   "source": [
    "df['Serie_Dummy'] = df['Serie_Dummy'].apply(binary)"
   ]
  },
  {
   "cell_type": "code",
   "execution_count": 12,
   "id": "4e85b5bc",
   "metadata": {},
   "outputs": [],
   "source": [
    "df['Famous_Dummy'] = df['Famous_Dummy'].apply(binary)"
   ]
  },
  {
   "cell_type": "code",
   "execution_count": 13,
   "id": "07897423",
   "metadata": {},
   "outputs": [],
   "source": [
    "df['Language_Dummy'] = df['Language_Dummy'].apply(binary)"
   ]
  },
  {
   "cell_type": "code",
   "execution_count": 14,
   "id": "d1932671",
   "metadata": {},
   "outputs": [],
   "source": [
    "df['Categories_Dummy'] = df['Categories_Dummy'].apply(binary)"
   ]
  },
  {
   "cell_type": "code",
   "execution_count": 15,
   "id": "5d950b89",
   "metadata": {},
   "outputs": [
    {
     "data": {
      "text/html": [
       "<div>\n",
       "<style scoped>\n",
       "    .dataframe tbody tr th:only-of-type {\n",
       "        vertical-align: middle;\n",
       "    }\n",
       "\n",
       "    .dataframe tbody tr th {\n",
       "        vertical-align: top;\n",
       "    }\n",
       "\n",
       "    .dataframe thead th {\n",
       "        text-align: right;\n",
       "    }\n",
       "</style>\n",
       "<table border=\"1\" class=\"dataframe\">\n",
       "  <thead>\n",
       "    <tr style=\"text-align: right;\">\n",
       "      <th></th>\n",
       "      <th>ISBN</th>\n",
       "      <th>Rating</th>\n",
       "      <th>Price</th>\n",
       "      <th>Pages</th>\n",
       "      <th>Rating Count</th>\n",
       "      <th>Language_Dummy</th>\n",
       "      <th>Size_Dummy</th>\n",
       "      <th>Famous_Dummy</th>\n",
       "      <th>Categories_Dummy</th>\n",
       "      <th>Serie_Dummy</th>\n",
       "      <th>Rating_Classification</th>\n",
       "    </tr>\n",
       "  </thead>\n",
       "  <tbody>\n",
       "    <tr>\n",
       "      <th>1921</th>\n",
       "      <td>9780842360616</td>\n",
       "      <td>3.99</td>\n",
       "      <td>5.56</td>\n",
       "      <td>356</td>\n",
       "      <td>3967</td>\n",
       "      <td>1</td>\n",
       "      <td>1</td>\n",
       "      <td>1</td>\n",
       "      <td>1</td>\n",
       "      <td>1</td>\n",
       "      <td>0</td>\n",
       "    </tr>\n",
       "    <tr>\n",
       "      <th>1922</th>\n",
       "      <td>9780425206867</td>\n",
       "      <td>3.76</td>\n",
       "      <td>3.19</td>\n",
       "      <td>216</td>\n",
       "      <td>22369</td>\n",
       "      <td>1</td>\n",
       "      <td>1</td>\n",
       "      <td>1</td>\n",
       "      <td>1</td>\n",
       "      <td>1</td>\n",
       "      <td>0</td>\n",
       "    </tr>\n",
       "    <tr>\n",
       "      <th>1923</th>\n",
       "      <td>9780142302330</td>\n",
       "      <td>4.39</td>\n",
       "      <td>15.14</td>\n",
       "      <td>1008</td>\n",
       "      <td>504</td>\n",
       "      <td>1</td>\n",
       "      <td>1</td>\n",
       "      <td>1</td>\n",
       "      <td>1</td>\n",
       "      <td>0</td>\n",
       "      <td>0</td>\n",
       "    </tr>\n",
       "    <tr>\n",
       "      <th>1924</th>\n",
       "      <td>9780140437850</td>\n",
       "      <td>3.53</td>\n",
       "      <td>5.69</td>\n",
       "      <td>289</td>\n",
       "      <td>3471</td>\n",
       "      <td>1</td>\n",
       "      <td>1</td>\n",
       "      <td>0</td>\n",
       "      <td>1</td>\n",
       "      <td>0</td>\n",
       "      <td>0</td>\n",
       "    </tr>\n",
       "    <tr>\n",
       "      <th>1925</th>\n",
       "      <td>9780812975932</td>\n",
       "      <td>3.44</td>\n",
       "      <td>3.28</td>\n",
       "      <td>142</td>\n",
       "      <td>5028</td>\n",
       "      <td>1</td>\n",
       "      <td>1</td>\n",
       "      <td>0</td>\n",
       "      <td>1</td>\n",
       "      <td>0</td>\n",
       "      <td>0</td>\n",
       "    </tr>\n",
       "    <tr>\n",
       "      <th>1926</th>\n",
       "      <td>9780441731183</td>\n",
       "      <td>3.78</td>\n",
       "      <td>3.89</td>\n",
       "      <td>341</td>\n",
       "      <td>6092</td>\n",
       "      <td>1</td>\n",
       "      <td>1</td>\n",
       "      <td>1</td>\n",
       "      <td>1</td>\n",
       "      <td>1</td>\n",
       "      <td>0</td>\n",
       "    </tr>\n",
       "    <tr>\n",
       "      <th>1927</th>\n",
       "      <td>9780811213769</td>\n",
       "      <td>4.30</td>\n",
       "      <td>3.59</td>\n",
       "      <td>99</td>\n",
       "      <td>599</td>\n",
       "      <td>1</td>\n",
       "      <td>1</td>\n",
       "      <td>0</td>\n",
       "      <td>1</td>\n",
       "      <td>0</td>\n",
       "      <td>0</td>\n",
       "    </tr>\n",
       "    <tr>\n",
       "      <th>1928</th>\n",
       "      <td>9780553562606</td>\n",
       "      <td>4.08</td>\n",
       "      <td>3.12</td>\n",
       "      <td>518</td>\n",
       "      <td>5356</td>\n",
       "      <td>1</td>\n",
       "      <td>1</td>\n",
       "      <td>0</td>\n",
       "      <td>1</td>\n",
       "      <td>1</td>\n",
       "      <td>0</td>\n",
       "    </tr>\n",
       "    <tr>\n",
       "      <th>1929</th>\n",
       "      <td>9781400044870</td>\n",
       "      <td>4.02</td>\n",
       "      <td>3.59</td>\n",
       "      <td>320</td>\n",
       "      <td>4455</td>\n",
       "      <td>1</td>\n",
       "      <td>1</td>\n",
       "      <td>0</td>\n",
       "      <td>1</td>\n",
       "      <td>0</td>\n",
       "      <td>0</td>\n",
       "    </tr>\n",
       "    <tr>\n",
       "      <th>1930</th>\n",
       "      <td>9780553273861</td>\n",
       "      <td>3.64</td>\n",
       "      <td>3.52</td>\n",
       "      <td>291</td>\n",
       "      <td>580</td>\n",
       "      <td>1</td>\n",
       "      <td>1</td>\n",
       "      <td>1</td>\n",
       "      <td>1</td>\n",
       "      <td>0</td>\n",
       "      <td>0</td>\n",
       "    </tr>\n",
       "  </tbody>\n",
       "</table>\n",
       "</div>"
      ],
      "text/plain": [
       "               ISBN  Rating  Price  Pages  Rating Count  Language_Dummy  \\\n",
       "1921  9780842360616    3.99   5.56    356          3967               1   \n",
       "1922  9780425206867    3.76   3.19    216         22369               1   \n",
       "1923  9780142302330    4.39  15.14   1008           504               1   \n",
       "1924  9780140437850    3.53   5.69    289          3471               1   \n",
       "1925  9780812975932    3.44   3.28    142          5028               1   \n",
       "1926  9780441731183    3.78   3.89    341          6092               1   \n",
       "1927  9780811213769    4.30   3.59     99           599               1   \n",
       "1928  9780553562606    4.08   3.12    518          5356               1   \n",
       "1929  9781400044870    4.02   3.59    320          4455               1   \n",
       "1930  9780553273861    3.64   3.52    291           580               1   \n",
       "\n",
       "      Size_Dummy  Famous_Dummy  Categories_Dummy  Serie_Dummy  \\\n",
       "1921           1             1                 1            1   \n",
       "1922           1             1                 1            1   \n",
       "1923           1             1                 1            0   \n",
       "1924           1             0                 1            0   \n",
       "1925           1             0                 1            0   \n",
       "1926           1             1                 1            1   \n",
       "1927           1             0                 1            0   \n",
       "1928           1             0                 1            1   \n",
       "1929           1             0                 1            0   \n",
       "1930           1             1                 1            0   \n",
       "\n",
       "      Rating_Classification  \n",
       "1921                      0  \n",
       "1922                      0  \n",
       "1923                      0  \n",
       "1924                      0  \n",
       "1925                      0  \n",
       "1926                      0  \n",
       "1927                      0  \n",
       "1928                      0  \n",
       "1929                      0  \n",
       "1930                      0  "
      ]
     },
     "execution_count": 15,
     "metadata": {},
     "output_type": "execute_result"
    }
   ],
   "source": [
    "#Create a new dataframe with the target variables\n",
    "df.tail(10)"
   ]
  },
  {
   "cell_type": "markdown",
   "id": "01b5d523",
   "metadata": {},
   "source": [
    "##  Separate the Features (X) from the Target (y)"
   ]
  },
  {
   "cell_type": "code",
   "execution_count": 16,
   "id": "3c4fd6f2",
   "metadata": {},
   "outputs": [],
   "source": [
    "#The Outcome column is defined as y, or the target.\n",
    "#X, or features, is created by dropping the Outcome column from the DataFrame.\n",
    "\n",
    "y = df[\"Rating_Classification\"]\n",
    "X = df.drop(columns=\"Rating_Classification\")\n"
   ]
  },
  {
   "cell_type": "markdown",
   "id": "1a4a345b",
   "metadata": {},
   "source": [
    " ## Split our data into training and testing"
   ]
  },
  {
   "cell_type": "code",
   "execution_count": 17,
   "id": "4d92082b",
   "metadata": {},
   "outputs": [
    {
     "data": {
      "text/plain": [
       "(1448, 10)"
      ]
     },
     "execution_count": 17,
     "metadata": {},
     "output_type": "execute_result"
    }
   ],
   "source": [
    "#We first split the dataset into training and testing sets\n",
    "from sklearn.model_selection import train_test_split\n",
    "\n",
    "X_train, X_test, y_train, y_test = train_test_split(X, \n",
    "                                                    y, \n",
    "                                                    random_state=1, \n",
    "                                                    stratify=y)\n",
    "X_train.shape\n"
   ]
  },
  {
   "cell_type": "code",
   "execution_count": 18,
   "id": "743bb8e6",
   "metadata": {},
   "outputs": [],
   "source": [
    "#Examining the shape of the training set with X_train.shape returned (1636,5), meaning that there are 1636 samples (rows) and \n",
    "#five features (columns)."
   ]
  },
  {
   "cell_type": "code",
   "execution_count": 19,
   "id": "d3ae9f9e",
   "metadata": {},
   "outputs": [],
   "source": [
    "#The next step was to create a logistic regression model with the specified arguments for solver, max_iter, and random_state\n",
    "from sklearn.linear_model import LogisticRegression\n",
    "classifier = LogisticRegression(solver='lbfgs',\n",
    "                                max_iter=200,\n",
    "                                random_state=1)"
   ]
  },
  {
   "cell_type": "code",
   "execution_count": 20,
   "id": "1580c600",
   "metadata": {},
   "outputs": [
    {
     "name": "stderr",
     "output_type": "stream",
     "text": [
      "C:\\Users\\maria\\anaconda3\\envs\\mlenv\\lib\\site-packages\\sklearn\\linear_model\\_logistic.py:818: ConvergenceWarning: lbfgs failed to converge (status=2):\n",
      "ABNORMAL_TERMINATION_IN_LNSRCH.\n",
      "\n",
      "Increase the number of iterations (max_iter) or scale the data as shown in:\n",
      "    https://scikit-learn.org/stable/modules/preprocessing.html\n",
      "Please also refer to the documentation for alternative solver options:\n",
      "    https://scikit-learn.org/stable/modules/linear_model.html#logistic-regression\n",
      "  extra_warning_msg=_LOGISTIC_SOLVER_CONVERGENCE_MSG,\n"
     ]
    },
    {
     "data": {
      "text/plain": [
       "LogisticRegression(max_iter=200, random_state=1)"
      ]
     },
     "execution_count": 20,
     "metadata": {},
     "output_type": "execute_result"
    }
   ],
   "source": [
    "#we trained the model with the training data\n",
    "classifier.fit(X_train, y_train)"
   ]
  },
  {
   "cell_type": "code",
   "execution_count": 21,
   "id": "d3a4e996",
   "metadata": {},
   "outputs": [
    {
     "data": {
      "text/html": [
       "<div>\n",
       "<style scoped>\n",
       "    .dataframe tbody tr th:only-of-type {\n",
       "        vertical-align: middle;\n",
       "    }\n",
       "\n",
       "    .dataframe tbody tr th {\n",
       "        vertical-align: top;\n",
       "    }\n",
       "\n",
       "    .dataframe thead th {\n",
       "        text-align: right;\n",
       "    }\n",
       "</style>\n",
       "<table border=\"1\" class=\"dataframe\">\n",
       "  <thead>\n",
       "    <tr style=\"text-align: right;\">\n",
       "      <th></th>\n",
       "      <th>Prediction</th>\n",
       "      <th>Actual</th>\n",
       "    </tr>\n",
       "  </thead>\n",
       "  <tbody>\n",
       "    <tr>\n",
       "      <th>463</th>\n",
       "      <td>0</td>\n",
       "      <td>0</td>\n",
       "    </tr>\n",
       "    <tr>\n",
       "      <th>464</th>\n",
       "      <td>0</td>\n",
       "      <td>0</td>\n",
       "    </tr>\n",
       "    <tr>\n",
       "      <th>465</th>\n",
       "      <td>0</td>\n",
       "      <td>0</td>\n",
       "    </tr>\n",
       "    <tr>\n",
       "      <th>466</th>\n",
       "      <td>0</td>\n",
       "      <td>0</td>\n",
       "    </tr>\n",
       "    <tr>\n",
       "      <th>467</th>\n",
       "      <td>0</td>\n",
       "      <td>0</td>\n",
       "    </tr>\n",
       "    <tr>\n",
       "      <th>468</th>\n",
       "      <td>0</td>\n",
       "      <td>0</td>\n",
       "    </tr>\n",
       "    <tr>\n",
       "      <th>469</th>\n",
       "      <td>0</td>\n",
       "      <td>0</td>\n",
       "    </tr>\n",
       "    <tr>\n",
       "      <th>470</th>\n",
       "      <td>0</td>\n",
       "      <td>0</td>\n",
       "    </tr>\n",
       "    <tr>\n",
       "      <th>471</th>\n",
       "      <td>0</td>\n",
       "      <td>0</td>\n",
       "    </tr>\n",
       "    <tr>\n",
       "      <th>472</th>\n",
       "      <td>0</td>\n",
       "      <td>0</td>\n",
       "    </tr>\n",
       "    <tr>\n",
       "      <th>473</th>\n",
       "      <td>0</td>\n",
       "      <td>0</td>\n",
       "    </tr>\n",
       "    <tr>\n",
       "      <th>474</th>\n",
       "      <td>0</td>\n",
       "      <td>0</td>\n",
       "    </tr>\n",
       "    <tr>\n",
       "      <th>475</th>\n",
       "      <td>0</td>\n",
       "      <td>0</td>\n",
       "    </tr>\n",
       "    <tr>\n",
       "      <th>476</th>\n",
       "      <td>0</td>\n",
       "      <td>0</td>\n",
       "    </tr>\n",
       "    <tr>\n",
       "      <th>477</th>\n",
       "      <td>0</td>\n",
       "      <td>0</td>\n",
       "    </tr>\n",
       "    <tr>\n",
       "      <th>478</th>\n",
       "      <td>0</td>\n",
       "      <td>0</td>\n",
       "    </tr>\n",
       "    <tr>\n",
       "      <th>479</th>\n",
       "      <td>0</td>\n",
       "      <td>0</td>\n",
       "    </tr>\n",
       "    <tr>\n",
       "      <th>480</th>\n",
       "      <td>0</td>\n",
       "      <td>0</td>\n",
       "    </tr>\n",
       "    <tr>\n",
       "      <th>481</th>\n",
       "      <td>0</td>\n",
       "      <td>0</td>\n",
       "    </tr>\n",
       "    <tr>\n",
       "      <th>482</th>\n",
       "      <td>0</td>\n",
       "      <td>0</td>\n",
       "    </tr>\n",
       "  </tbody>\n",
       "</table>\n",
       "</div>"
      ],
      "text/plain": [
       "     Prediction  Actual\n",
       "463           0       0\n",
       "464           0       0\n",
       "465           0       0\n",
       "466           0       0\n",
       "467           0       0\n",
       "468           0       0\n",
       "469           0       0\n",
       "470           0       0\n",
       "471           0       0\n",
       "472           0       0\n",
       "473           0       0\n",
       "474           0       0\n",
       "475           0       0\n",
       "476           0       0\n",
       "477           0       0\n",
       "478           0       0\n",
       "479           0       0\n",
       "480           0       0\n",
       "481           0       0\n",
       "482           0       0"
      ]
     },
     "execution_count": 21,
     "metadata": {},
     "output_type": "execute_result"
    }
   ],
   "source": [
    "#To create predictions for y-values, we used the X_test set\n",
    "y_pred = classifier.predict(X_test)\n",
    "results = pd.DataFrame({\"Prediction\": y_pred, \"Actual\": y_test}).reset_index(drop=True)\n",
    "results.tail(20)\n"
   ]
  },
  {
   "cell_type": "code",
   "execution_count": 22,
   "id": "ab3587f8",
   "metadata": {},
   "outputs": [
    {
     "name": "stdout",
     "output_type": "stream",
     "text": [
      "0.9834368530020704\n"
     ]
    }
   ],
   "source": [
    "#The final step is to measure the accuracy of the logistic regression model created\n",
    "\n",
    "from sklearn.metrics import accuracy_score\n",
    "print(accuracy_score(y_test, y_pred))"
   ]
  },
  {
   "cell_type": "code",
   "execution_count": 23,
   "id": "283d57d2",
   "metadata": {},
   "outputs": [],
   "source": [
    "#taking into account that the accuracy score is simply the percentage of predictions that are correct. In this case, \n",
    "#the model's accuracy score was 0.9834, meaning that the model was correct 98.34% of the time."
   ]
  },
  {
   "cell_type": "code",
   "execution_count": 25,
   "id": "04bc3140",
   "metadata": {},
   "outputs": [
    {
     "name": "stdout",
     "output_type": "stream",
     "text": [
      "[[475   0]\n",
      " [  8   0]]\n"
     ]
    }
   ],
   "source": [
    "#  import the relevant modules for validation and print the confusion_matrix\n",
    "from sklearn.metrics import confusion_matrix, classification_report\n",
    "matrix = confusion_matrix(y_test, y_pred)\n",
    "print(matrix)"
   ]
  },
  {
   "cell_type": "code",
   "execution_count": 26,
   "id": "1a9be58f",
   "metadata": {},
   "outputs": [
    {
     "name": "stdout",
     "output_type": "stream",
     "text": [
      "              precision    recall  f1-score   support\n",
      "\n",
      "           0       0.98      1.00      0.99       475\n",
      "           1       0.00      0.00      0.00         8\n",
      "\n",
      "    accuracy                           0.98       483\n",
      "   macro avg       0.49      0.50      0.50       483\n",
      "weighted avg       0.97      0.98      0.98       483\n",
      "\n"
     ]
    },
    {
     "name": "stderr",
     "output_type": "stream",
     "text": [
      "C:\\Users\\maria\\anaconda3\\envs\\mlenv\\lib\\site-packages\\sklearn\\metrics\\_classification.py:1318: UndefinedMetricWarning: Precision and F-score are ill-defined and being set to 0.0 in labels with no predicted samples. Use `zero_division` parameter to control this behavior.\n",
      "  _warn_prf(average, modifier, msg_start, len(result))\n",
      "C:\\Users\\maria\\anaconda3\\envs\\mlenv\\lib\\site-packages\\sklearn\\metrics\\_classification.py:1318: UndefinedMetricWarning: Precision and F-score are ill-defined and being set to 0.0 in labels with no predicted samples. Use `zero_division` parameter to control this behavior.\n",
      "  _warn_prf(average, modifier, msg_start, len(result))\n",
      "C:\\Users\\maria\\anaconda3\\envs\\mlenv\\lib\\site-packages\\sklearn\\metrics\\_classification.py:1318: UndefinedMetricWarning: Precision and F-score are ill-defined and being set to 0.0 in labels with no predicted samples. Use `zero_division` parameter to control this behavior.\n",
      "  _warn_prf(average, modifier, msg_start, len(result))\n"
     ]
    }
   ],
   "source": [
    "# Report of sensitivity, precission and F1. La línea 0 se aplica al predictor de diabetes como hipótesis alternativa\n",
    "report = classification_report(y_test, y_pred)\n",
    "print(report)"
   ]
  },
  {
   "cell_type": "code",
   "execution_count": null,
   "id": "868862f9",
   "metadata": {},
   "outputs": [],
   "source": []
  }
 ],
 "metadata": {
  "kernelspec": {
   "display_name": "mlenv",
   "language": "python",
   "name": "mlenv"
  },
  "language_info": {
   "codemirror_mode": {
    "name": "ipython",
    "version": 3
   },
   "file_extension": ".py",
   "mimetype": "text/x-python",
   "name": "python",
   "nbconvert_exporter": "python",
   "pygments_lexer": "ipython3",
   "version": "3.7.11"
  }
 },
 "nbformat": 4,
 "nbformat_minor": 5
}
